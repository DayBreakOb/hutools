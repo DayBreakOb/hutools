{
 "cells": [
  {
   "cell_type": "code",
   "execution_count": 7,
   "metadata": {},
   "outputs": [],
   "source": [
    "import requests\n",
    "import os\n",
    "import random\n",
    "os.environ['https_proxy'] = ''\n",
    "os.environ['http_proxy'] = ''\n",
    "def downloadimg(url):\n",
    "    resp = requests.get(url)\n",
    "    rid=random.randrange(1000,9999)\n",
    "    with open('/u01/hutools.github.io/hutools/img/'+str(rid)+'.jpg', 'wb') as f:\n",
    "        f.write(resp.content)\n",
    "\n",
    "for i in range(1,50):\n",
    "    downloadimg('https://www.dmoe.cc/random.php')\n",
    "\n"
   ]
  }
 ],
 "metadata": {
  "kernelspec": {
   "display_name": "Python 3.8.10 64-bit",
   "language": "python",
   "name": "python3"
  },
  "language_info": {
   "codemirror_mode": {
    "name": "ipython",
    "version": 3
   },
   "file_extension": ".py",
   "mimetype": "text/x-python",
   "name": "python",
   "nbconvert_exporter": "python",
   "pygments_lexer": "ipython3",
   "version": "3.8.10"
  },
  "orig_nbformat": 4,
  "vscode": {
   "interpreter": {
    "hash": "31f2aee4e71d21fbe5cf8b01ff0e069b9275f58929596ceb00d14d90e3e16cd6"
   }
  }
 },
 "nbformat": 4,
 "nbformat_minor": 2
}
